{
 "cells": [
  {
   "cell_type": "markdown",
   "id": "ec19f5d4",
   "metadata": {
    "executionInfo": {
     "elapsed": 1807,
     "status": "ok",
     "timestamp": 1621276777155,
     "user": {
      "displayName": "Omar Skouri",
      "photoUrl": "",
      "userId": "12757021418485936231"
     },
     "user_tz": -120
    },
    "id": "d4d0e473"
   },
   "source": [
    "This notebook is used to transform the newgroups files into one csv dataset.<br>\n",
    "The features(columns) are the words in the vocabulary.<br>\n",
    "The samples are the files. <br>\n",
    "The target feature(last column) is the newsgroup(class) to which each file belongs to. <br>\n",
    "\n",
    "This notebook uses some of the functions provided in the naive bayes squeleton.<br>\n",
    "Due the the big amount of data this was ran on google colab resulting in a 1.3Gb csv file for training\n",
    "and 900mb file for testing."
   ]
  },
  {
   "cell_type": "code",
   "execution_count": 1,
   "id": "f7f8a2fd",
   "metadata": {},
   "outputs": [
    {
     "ename": "ModuleNotFoundError",
     "evalue": "No module named 'google'",
     "output_type": "error",
     "traceback": [
      "\u001b[1;31m---------------------------------------------------------------------------\u001b[0m",
      "\u001b[1;31mModuleNotFoundError\u001b[0m                       Traceback (most recent call last)",
      "\u001b[1;32m<ipython-input-1-2fd4b64a3b87>\u001b[0m in \u001b[0;36m<module>\u001b[1;34m\u001b[0m\n\u001b[0;32m      1\u001b[0m \u001b[1;32mimport\u001b[0m \u001b[0mpandas\u001b[0m \u001b[1;32mas\u001b[0m \u001b[0mpd\u001b[0m\u001b[1;33m\u001b[0m\u001b[1;33m\u001b[0m\u001b[0m\n\u001b[1;32m----> 2\u001b[1;33m \u001b[1;32mfrom\u001b[0m \u001b[0mgoogle\u001b[0m\u001b[1;33m.\u001b[0m\u001b[0mcolab\u001b[0m \u001b[1;32mimport\u001b[0m \u001b[0mdrive\u001b[0m\u001b[1;33m\u001b[0m\u001b[1;33m\u001b[0m\u001b[0m\n\u001b[0m\u001b[0;32m      3\u001b[0m \u001b[1;32mimport\u001b[0m \u001b[0mos\u001b[0m\u001b[1;33m\u001b[0m\u001b[1;33m\u001b[0m\u001b[0m\n\u001b[0;32m      4\u001b[0m \u001b[1;32mimport\u001b[0m \u001b[0mpprint\u001b[0m\u001b[1;33m\u001b[0m\u001b[1;33m\u001b[0m\u001b[0m\n\u001b[0;32m      5\u001b[0m \u001b[1;32mimport\u001b[0m \u001b[0mre\u001b[0m\u001b[1;33m\u001b[0m\u001b[1;33m\u001b[0m\u001b[0m\n",
      "\u001b[1;31mModuleNotFoundError\u001b[0m: No module named 'google'"
     ]
    }
   ],
   "source": [
    "\n",
    "import pandas as pd\n",
    "from google.colab import drive\n",
    "import os\n",
    "import pprint\n",
    "import re\n",
    "import codecs\n",
    "import math\n",
    "import itertools\n",
    "import numpy as np\n",
    "\n",
    "import matplotlib.pyplot as plt\n",
    "import seaborn as sns\n",
    "from google.colab import files"
   ]
  },
  {
   "cell_type": "code",
   "execution_count": 2,
   "id": "U7eiU0RwfmTC",
   "metadata": {
    "colab": {
     "base_uri": "https://localhost:8080/"
    },
    "executionInfo": {
     "elapsed": 1004,
     "status": "ok",
     "timestamp": 1621276777156,
     "user": {
      "displayName": "Omar Skouri",
      "photoUrl": "",
      "userId": "12757021418485936231"
     },
     "user_tz": -120
    },
    "id": "U7eiU0RwfmTC",
    "outputId": "efe88cbf-5578-477f-d46a-c654482eed7c"
   },
   "outputs": [
    {
     "name": "stdout",
     "output_type": "stream",
     "text": [
      "Drive already mounted at /content/gdrive/; to attempt to forcibly remount, call drive.mount(\"/content/gdrive/\", force_remount=True).\n"
     ]
    }
   ],
   "source": [
    "drive.mount('/content/gdrive/')"
   ]
  },
  {
   "cell_type": "code",
   "execution_count": 3,
   "id": "04c1e2b7",
   "metadata": {
    "executionInfo": {
     "elapsed": 474,
     "status": "ok",
     "timestamp": 1621276782356,
     "user": {
      "displayName": "Omar Skouri",
      "photoUrl": "",
      "userId": "12757021418485936231"
     },
     "user_tz": -120
    },
    "id": "04c1e2b7"
   },
   "outputs": [],
   "source": [
    "base_path_newsgroups = \"/content/gdrive/MyDrive/newsgroups/\"\n",
    "path_newsgroups_train = os.path.join(base_path_newsgroups, \"20news-bydate-train\")\n",
    "path_newsgroups_test = os.path.join(base_path_newsgroups, \"20news-bydate-test\")"
   ]
  },
  {
   "cell_type": "code",
   "execution_count": 4,
   "id": "2f432fe4",
   "metadata": {
    "executionInfo": {
     "elapsed": 610,
     "status": "ok",
     "timestamp": 1621276783271,
     "user": {
      "displayName": "Omar Skouri",
      "photoUrl": "",
      "userId": "12757021418485936231"
     },
     "user_tz": -120
    },
    "id": "2f432fe4"
   },
   "outputs": [],
   "source": [
    "subdirectory_names = [file_name for file_name in os.listdir(path_newsgroups_train)]"
   ]
  },
  {
   "cell_type": "code",
   "execution_count": 5,
   "id": "06b601fb",
   "metadata": {
    "executionInfo": {
     "elapsed": 2565,
     "status": "ok",
     "timestamp": 1621276785711,
     "user": {
      "displayName": "Omar Skouri",
      "photoUrl": "",
      "userId": "12757021418485936231"
     },
     "user_tz": -120
    },
    "id": "06b601fb"
   },
   "outputs": [],
   "source": [
    "categories = sorted(subdirectory_names)\n",
    "samples_per_cat = [len(list(os.listdir(os.path.join(path_newsgroups_train, cat_name)))) for cat_name in categories]\n"
   ]
  },
  {
   "cell_type": "code",
   "execution_count": 6,
   "id": "e3a150f0",
   "metadata": {
    "colab": {
     "base_uri": "https://localhost:8080/"
    },
    "executionInfo": {
     "elapsed": 2114,
     "status": "ok",
     "timestamp": 1621276785712,
     "user": {
      "displayName": "Omar Skouri",
      "photoUrl": "",
      "userId": "12757021418485936231"
     },
     "user_tz": -120
    },
    "id": "e3a150f0",
    "outputId": "125d97d9-0ab6-446a-9a26-6218c166fa07"
   },
   "outputs": [
    {
     "name": "stdout",
     "output_type": "stream",
     "text": [
      "Total number of files : 7532\n"
     ]
    }
   ],
   "source": [
    "file_nbr=sum(samples_per_cat)\n",
    "print('Total number of files :',file_nbr)"
   ]
  },
  {
   "cell_type": "code",
   "execution_count": 7,
   "id": "9cf768f1",
   "metadata": {
    "executionInfo": {
     "elapsed": 599,
     "status": "ok",
     "timestamp": 1621276788464,
     "user": {
      "displayName": "Omar Skouri",
      "photoUrl": "",
      "userId": "12757021418485936231"
     },
     "user_tz": -120
    },
    "id": "9cf768f1"
   },
   "outputs": [],
   "source": [
    "def tokenize_str(doc):\n",
    "    return re.findall(r'\\b\\w\\w+\\b', doc) # return all words with #characters > 1\n"
   ]
  },
  {
   "cell_type": "code",
   "execution_count": 8,
   "id": "74635391",
   "metadata": {
    "executionInfo": {
     "elapsed": 346,
     "status": "ok",
     "timestamp": 1621276788778,
     "user": {
      "displayName": "Omar Skouri",
      "photoUrl": "",
      "userId": "12757021418485936231"
     },
     "user_tz": -120
    },
    "id": "74635391"
   },
   "outputs": [],
   "source": [
    "def tokenize_file(doc_file):\n",
    "    with codecs.open(doc_file, encoding='latin1') as doc:\n",
    "        doc = doc.read().lower()\n",
    "        _header, _blankline, body = doc.partition('\\n\\n')\n",
    "        return tokenize_str(body) # return all words with #characters > 1\n"
   ]
  },
  {
   "cell_type": "code",
   "execution_count": 10,
   "id": "d3b899e3",
   "metadata": {
    "colab": {
     "base_uri": "https://localhost:8080/"
    },
    "executionInfo": {
     "elapsed": 29333,
     "status": "ok",
     "timestamp": 1621276825552,
     "user": {
      "displayName": "Omar Skouri",
      "photoUrl": "",
      "userId": "12757021418485936231"
     },
     "user_tz": -120
    },
    "id": "d3b899e3",
    "outputId": "a71622ce-a37b-42d4-ca98-8fd0cf1e6bf9"
   },
   "outputs": [
    {
     "name": "stdout",
     "output_type": "stream",
     "text": [
      "Vocabulary size: 60738\n"
     ]
    }
   ],
   "source": [
    "min_count = 1\n",
    "vocabulary = {}\n",
    "num_docs = 0\n",
    "classes = {}\n",
    "priors = {}\n",
    "conditionals = {}\n",
    "\n",
    "num_docs = 0\n",
    "for class_name in os.listdir(path_newsgroups_train):\n",
    "    classes[class_name] = {\"doc_counts\": 0, \"term_counts\": 0, \"terms\": {}}\n",
    "    path_class = os.path.join(path_newsgroups_train, class_name)\n",
    "    for doc_name in os.listdir(path_class):\n",
    "        terms = tokenize_file(os.path.join(path_class, doc_name))\n",
    "        num_docs += 1\n",
    "        classes[class_name][\"doc_counts\"] += 1\n",
    "\n",
    "        # build vocabulary and count terms\n",
    "        for term in terms:\n",
    "            classes[class_name][\"term_counts\"] += 1\n",
    "            if not term in vocabulary:\n",
    "                vocabulary[term] = 1\n",
    "                classes[class_name][\"terms\"][term] = 1\n",
    "            else:\n",
    "                vocabulary[term] += 1\n",
    "                if not term in classes[class_name][\"terms\"]:\n",
    "                    classes[class_name][\"terms\"][term] = 1\n",
    "                else:\n",
    "                    classes[class_name][\"terms\"][term] += 1\n",
    "\n",
    "# remove terms with frequency < min_count\n",
    "vocabulary = {k:v for k,v in vocabulary.items() if v > min_count}\n",
    "Vocab_len=len(vocabulary)\n",
    "print(\"Vocabulary size:\",Vocab_len )\n"
   ]
  },
  {
   "cell_type": "code",
   "execution_count": 11,
   "id": "4589cfae",
   "metadata": {
    "executionInfo": {
     "elapsed": 31128,
     "status": "ok",
     "timestamp": 1621276828286,
     "user": {
      "displayName": "Omar Skouri",
      "photoUrl": "",
      "userId": "12757021418485936231"
     },
     "user_tz": -120
    },
    "id": "4589cfae"
   },
   "outputs": [],
   "source": [
    "data=np.zeros((file_nbr,Vocab_len),int)\n",
    "classification=[]\n",
    "column_names=list(vocabulary.keys())"
   ]
  },
  {
   "cell_type": "code",
   "execution_count": 12,
   "id": "5b0a01f4",
   "metadata": {
    "colab": {
     "base_uri": "https://localhost:8080/"
    },
    "executionInfo": {
     "elapsed": 30350,
     "status": "ok",
     "timestamp": 1621276828288,
     "user": {
      "displayName": "Omar Skouri",
      "photoUrl": "",
      "userId": "12757021418485936231"
     },
     "user_tz": -120
    },
    "id": "5b0a01f4",
    "outputId": "fbd80b74-35e1-4992-a460-733e452ed736"
   },
   "outputs": [
    {
     "data": {
      "text/plain": [
       "(7532, 60738)"
      ]
     },
     "execution_count": 12,
     "metadata": {
      "tags": []
     },
     "output_type": "execute_result"
    }
   ],
   "source": [
    "data.shape"
   ]
  },
  {
   "cell_type": "code",
   "execution_count": 13,
   "id": "2f23ae85",
   "metadata": {
    "executionInfo": {
     "elapsed": 29332,
     "status": "ok",
     "timestamp": 1621276828289,
     "user": {
      "displayName": "Omar Skouri",
      "photoUrl": "",
      "userId": "12757021418485936231"
     },
     "user_tz": -120
    },
    "id": "2f23ae85"
   },
   "outputs": [],
   "source": [
    "def transform(path,data,column_names,classification):\n",
    "    i=0\n",
    "    for class_name in os.listdir(path):\n",
    "        path_class = os.path.join(path, class_name)\n",
    "        for doc_name in os.listdir(path_class):\n",
    "            terms =tokenize_file(os.path.join(path_class, doc_name))\n",
    "            for j in range(data.shape[1]-1):\n",
    "                if column_names[j] in terms:\n",
    "                    data[i,j]=data[i,j]+1                     \n",
    "            classification.append(class_name)\n",
    "            i=i+1\n",
    "\n",
    "                "
   ]
  },
  {
   "cell_type": "code",
   "execution_count": 14,
   "id": "c7334a31",
   "metadata": {
    "executionInfo": {
     "elapsed": 1924784,
     "status": "ok",
     "timestamp": 1621278724423,
     "user": {
      "displayName": "Omar Skouri",
      "photoUrl": "",
      "userId": "12757021418485936231"
     },
     "user_tz": -120
    },
    "id": "c7334a31"
   },
   "outputs": [],
   "source": [
    "transform(path_newsgroups_train,data,column_names,classification)"
   ]
  },
  {
   "cell_type": "code",
   "execution_count": 15,
   "id": "8FQFEjbsUHjq",
   "metadata": {
    "executionInfo": {
     "elapsed": 1924048,
     "status": "ok",
     "timestamp": 1621278724433,
     "user": {
      "displayName": "Omar Skouri",
      "photoUrl": "",
      "userId": "12757021418485936231"
     },
     "user_tz": -120
    },
    "id": "8FQFEjbsUHjq"
   },
   "outputs": [],
   "source": [
    "\n",
    "df_train=pd.DataFrame(data)\n",
    "df_train.columns=column_names\n",
    "df_train['Classification']=classification\n"
   ]
  },
  {
   "cell_type": "code",
   "execution_count": 16,
   "id": "u80EGVab_Jvl",
   "metadata": {
    "colab": {
     "base_uri": "https://localhost:8080/",
     "height": 17
    },
    "executionInfo": {
     "elapsed": 2434310,
     "status": "ok",
     "timestamp": 1621279235595,
     "user": {
      "displayName": "Omar Skouri",
      "photoUrl": "",
      "userId": "12757021418485936231"
     },
     "user_tz": -120
    },
    "id": "u80EGVab_Jvl",
    "outputId": "96221cc6-0591-48c9-ebc2-3b280d149648"
   },
   "outputs": [
    {
     "data": {
      "application/javascript": [
       "\n",
       "    async function download(id, filename, size) {\n",
       "      if (!google.colab.kernel.accessAllowed) {\n",
       "        return;\n",
       "      }\n",
       "      const div = document.createElement('div');\n",
       "      const label = document.createElement('label');\n",
       "      label.textContent = `Downloading \"${filename}\": `;\n",
       "      div.appendChild(label);\n",
       "      const progress = document.createElement('progress');\n",
       "      progress.max = size;\n",
       "      div.appendChild(progress);\n",
       "      document.body.appendChild(div);\n",
       "\n",
       "      const buffers = [];\n",
       "      let downloaded = 0;\n",
       "\n",
       "      const channel = await google.colab.kernel.comms.open(id);\n",
       "      // Send a message to notify the kernel that we're ready.\n",
       "      channel.send({})\n",
       "\n",
       "      for await (const message of channel.messages) {\n",
       "        // Send a message to notify the kernel that we're ready.\n",
       "        channel.send({})\n",
       "        if (message.buffers) {\n",
       "          for (const buffer of message.buffers) {\n",
       "            buffers.push(buffer);\n",
       "            downloaded += buffer.byteLength;\n",
       "            progress.value = downloaded;\n",
       "          }\n",
       "        }\n",
       "      }\n",
       "      const blob = new Blob(buffers, {type: 'application/binary'});\n",
       "      const a = document.createElement('a');\n",
       "      a.href = window.URL.createObjectURL(blob);\n",
       "      a.download = filename;\n",
       "      div.appendChild(a);\n",
       "      a.click();\n",
       "      div.remove();\n",
       "    }\n",
       "  "
      ],
      "text/plain": [
       "<IPython.core.display.Javascript object>"
      ]
     },
     "metadata": {
      "tags": []
     },
     "output_type": "display_data"
    },
    {
     "data": {
      "application/javascript": [
       "download(\"download_4a652e08-9f4e-4d89-a905-fec4b5a0a2a4\", \"df.csv\", 915578895)"
      ],
      "text/plain": [
       "<IPython.core.display.Javascript object>"
      ]
     },
     "metadata": {
      "tags": []
     },
     "output_type": "display_data"
    }
   ],
   "source": [
    "df_train.to_csv('df_train.csv')\n",
    "files.download('df_train.csv')"
   ]
  },
  {
   "cell_type": "code",
   "execution_count": null,
   "id": "iJjI50Tm-B9O",
   "metadata": {
    "id": "iJjI50Tm-B9O"
   },
   "outputs": [],
   "source": []
  }
 ],
 "metadata": {
  "colab": {
   "collapsed_sections": [],
   "name": "newsgroup_files_tocsv",
   "provenance": []
  },
  "kernelspec": {
   "display_name": "Python 3",
   "language": "python",
   "name": "python3"
  },
  "language_info": {
   "codemirror_mode": {
    "name": "ipython",
    "version": 3
   },
   "file_extension": ".py",
   "mimetype": "text/x-python",
   "name": "python",
   "nbconvert_exporter": "python",
   "pygments_lexer": "ipython3",
   "version": "3.8.2"
  }
 },
 "nbformat": 4,
 "nbformat_minor": 5
}
