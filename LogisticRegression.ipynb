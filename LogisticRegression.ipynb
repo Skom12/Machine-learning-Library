{
 "cells": [
  {
   "cell_type": "code",
   "execution_count": 29,
   "id": "3e83958d",
   "metadata": {},
   "outputs": [],
   "source": [
    "import numpy as np\n",
    "import pandas as pd\n",
    "import numpy.linalg as la\n",
    "from random import randint"
   ]
  },
  {
   "cell_type": "markdown",
   "id": "e0ae43a8",
   "metadata": {},
   "source": [
    "The following 6 cells are taken from the logistic regression squeleton and used for data generation"
   ]
  },
  {
   "cell_type": "code",
   "execution_count": 30,
   "id": "fff65b04",
   "metadata": {},
   "outputs": [],
   "source": [
    "n_samples = 1000"
   ]
  },
  {
   "cell_type": "code",
   "execution_count": 31,
   "id": "50d3aa58",
   "metadata": {},
   "outputs": [],
   "source": [
    "mean = [5, 9]\n",
    "cov = [[2.5, 0.8], [0.8, 0.5]]\n",
    "X_p = np.random.multivariate_normal(mean, cov, n_samples).T\n"
   ]
  },
  {
   "cell_type": "code",
   "execution_count": 32,
   "id": "f4a35a1a",
   "metadata": {},
   "outputs": [],
   "source": [
    "mean = [11, 3]\n",
    "cov = [[3, -1.3], [-1.3, 1.2]]\n",
    "X_n_1 = np.random.multivariate_normal([11, 3], cov, int(n_samples/2)).T\n",
    "X_n_2 = np.random.multivariate_normal([5, 2], cov, n_samples-int(n_samples/2)).T\n",
    "X_n = np.hstack([X_n_1, X_n_2])"
   ]
  },
  {
   "cell_type": "code",
   "execution_count": 33,
   "id": "e76e5ba8",
   "metadata": {},
   "outputs": [],
   "source": [
    "XY_p = np.vstack([X_p, np.ones_like(X_p[0])])\n",
    "XY_n = np.vstack([X_n, np.zeros_like(X_n[0])])"
   ]
  },
  {
   "cell_type": "code",
   "execution_count": 34,
   "id": "c2cf4797",
   "metadata": {},
   "outputs": [],
   "source": [
    "XY = np.hstack([XY_n, XY_p])\n",
    "data_XY = np.copy(XY).T\n",
    "np.random.shuffle(data_XY)"
   ]
  },
  {
   "cell_type": "code",
   "execution_count": 35,
   "id": "1f7784d7",
   "metadata": {},
   "outputs": [],
   "source": [
    "data_train = data_XY[:1600]\n",
    "data_test = data_XY[:400]\n"
   ]
  },
  {
   "cell_type": "code",
   "execution_count": 36,
   "id": "86cbc101",
   "metadata": {},
   "outputs": [],
   "source": [
    "features_train = data_train[:,:2]\n",
    "targets_train = data_train[:,2]\n",
    "\n",
    "features_test = data_test[:,:2]\n",
    "targets_test = data_test[:,2]\n",
    "\n",
    "learning_r=0.5"
   ]
  },
  {
   "cell_type": "code",
   "execution_count": 37,
   "id": "a2e99f8c",
   "metadata": {},
   "outputs": [],
   "source": [
    "class LogisticRegression:\n",
    "    def __init__(self,weights=0):\n",
    "        self.weights=weights\n",
    "        \n",
    "    def sigmoid(self,x):\n",
    "        return 1.0 / (1.0 + np.exp(-x))\n",
    "    \n",
    "    def h(self,feature):\n",
    "        a=np.matmul(feature,self.weights.T)\n",
    "        return self.sigmoid(a)\n",
    "        \n",
    "         \n",
    "           \n",
    "    def learn(self, features: np.array, targets: np.array, learning_r: int): \n",
    "        self.weights=np.ones((features.shape[1]),int)       \n",
    "        N=targets.shape[0]\n",
    "        iteration =0\n",
    "        while iteration < 1000 :\n",
    "            iteration = iteration +1\n",
    "            i = randint(0,N-1)\n",
    "            self.weights = self.weights - learning_r *(self.h(features[i,:])-targets[i])*features[i,:]\n",
    "            \n",
    "\n",
    "    def infer(self, features):\n",
    "        return np.around(self.h(features))\n",
    "    \n",
    "    \n",
    "    def Performance(self,predicted, targets):\n",
    "        diff= targets - predicted\n",
    "        sum = 0\n",
    "        for e in diff:\n",
    "            if e ==0 :\n",
    "                sum = sum +1 \n",
    "        print('The model has an Accuracy of',(sum/len(diff)))\n"
   ]
  },
  {
   "cell_type": "code",
   "execution_count": 38,
   "id": "4a335caf",
   "metadata": {},
   "outputs": [],
   "source": [
    "model= LogisticRegression()\n",
    "model.learn(features_train,targets_train,learning_r)"
   ]
  },
  {
   "cell_type": "code",
   "execution_count": 39,
   "id": "f7a722de",
   "metadata": {},
   "outputs": [
    {
     "data": {
      "text/plain": [
       "array([-11.28551975,  11.06737555])"
      ]
     },
     "execution_count": 39,
     "metadata": {},
     "output_type": "execute_result"
    }
   ],
   "source": [
    "model.weights"
   ]
  },
  {
   "cell_type": "code",
   "execution_count": 40,
   "id": "8c7ef759",
   "metadata": {},
   "outputs": [],
   "source": [
    "predicted=model.infer(features_test);"
   ]
  },
  {
   "cell_type": "code",
   "execution_count": 41,
   "id": "be1564d0",
   "metadata": {},
   "outputs": [
    {
     "name": "stdout",
     "output_type": "stream",
     "text": [
      "The model has an Accuracy of 0.955\n"
     ]
    }
   ],
   "source": [
    "model.Performance(predicted,targets_test)"
   ]
  },
  {
   "cell_type": "code",
   "execution_count": null,
   "id": "d6caeaa0",
   "metadata": {},
   "outputs": [],
   "source": []
  },
  {
   "cell_type": "code",
   "execution_count": null,
   "id": "2182fe4a",
   "metadata": {},
   "outputs": [],
   "source": []
  }
 ],
 "metadata": {
  "kernelspec": {
   "display_name": "Python 3",
   "language": "python",
   "name": "python3"
  },
  "language_info": {
   "codemirror_mode": {
    "name": "ipython",
    "version": 3
   },
   "file_extension": ".py",
   "mimetype": "text/x-python",
   "name": "python",
   "nbconvert_exporter": "python",
   "pygments_lexer": "ipython3",
   "version": "3.8.2"
  }
 },
 "nbformat": 4,
 "nbformat_minor": 5
}
