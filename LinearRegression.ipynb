{
 "cells": [
  {
   "cell_type": "code",
   "execution_count": 24,
   "id": "cf89eab7",
   "metadata": {},
   "outputs": [],
   "source": [
    "import numpy as np\n",
    "import pandas as pd\n",
    "import numpy.linalg as la\n",
    "\n",
    "class linearRegression:\n",
    "    def __init__(self):\n",
    "        self.weights=0\n",
    "        self.esti_targets=0\n",
    "          \n",
    "    def learn(self, features: np.array, targets: np.array):       \n",
    "        X=features\n",
    "        Y=targets\n",
    "        esti_weight=np.matmul(np.matmul(la.inv(np.matmul(X.T, X)),X.T),Y)\n",
    "        self.weights=esti_weight\n",
    "\n",
    "    def infer(self, features):\n",
    "        self.esti_targets= np.matmul(features,self.weights)\n",
    "         \n",
    "    def Performance(self, targets):\n",
    "        n=targets.shape[0]\n",
    "        MSE=np.matmul((targets-self.esti_targets).T,targets-self.esti_targets)*(1/n)\n",
    "        print(\"MSE = \",float(MSE[0]))"
   ]
  },
  {
   "cell_type": "code",
   "execution_count": 25,
   "id": "05b1bcda",
   "metadata": {},
   "outputs": [],
   "source": [
    "data = pd.read_csv(\"auto-mpg.csv\")\n",
    "features = data[['cylinders', 'displacement', 'horsepower', 'weight', 'acceleration', 'year']].values\n",
    "targets = data[['mpg']].values\n",
    "\n",
    "offset = np.ones((features.shape[0],1),int)\n",
    "features = np.concatenate((offset,features),axis=1)"
   ]
  },
  {
   "cell_type": "code",
   "execution_count": 26,
   "id": "9abfc59f",
   "metadata": {},
   "outputs": [],
   "source": [
    "model= linearRegression()\n",
    "model.learn(features,targets)\n",
    "model.weights;\n"
   ]
  },
  {
   "cell_type": "code",
   "execution_count": 27,
   "id": "371bbcce",
   "metadata": {},
   "outputs": [],
   "source": [
    "model.infer(features)\n",
    "model.esti_targets;"
   ]
  },
  {
   "cell_type": "code",
   "execution_count": 28,
   "id": "a38b2f73",
   "metadata": {
    "scrolled": true
   },
   "outputs": [
    {
     "name": "stdout",
     "output_type": "stream",
     "text": [
      "MSE =  11.590170981415229\n"
     ]
    }
   ],
   "source": [
    "model.Performance(targets);\n"
   ]
  },
  {
   "cell_type": "code",
   "execution_count": null,
   "id": "607b0672",
   "metadata": {},
   "outputs": [],
   "source": []
  },
  {
   "cell_type": "code",
   "execution_count": null,
   "id": "72ccdb7b",
   "metadata": {},
   "outputs": [],
   "source": []
  }
 ],
 "metadata": {
  "kernelspec": {
   "display_name": "Python 3",
   "language": "python",
   "name": "python3"
  },
  "language_info": {
   "codemirror_mode": {
    "name": "ipython",
    "version": 3
   },
   "file_extension": ".py",
   "mimetype": "text/x-python",
   "name": "python",
   "nbconvert_exporter": "python",
   "pygments_lexer": "ipython3",
   "version": "3.8.2"
  }
 },
 "nbformat": 4,
 "nbformat_minor": 5
}
