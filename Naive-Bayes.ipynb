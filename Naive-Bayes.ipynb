{
 "cells": [
  {
   "cell_type": "code",
   "execution_count": 76,
   "id": "d4d0e473",
   "metadata": {},
   "outputs": [],
   "source": [
    "import numpy as np\n",
    "import pandas as pd\n",
    "import collections\n",
    "from math import sqrt,exp,pi\n",
    "import operator"
   ]
  },
  {
   "cell_type": "code",
   "execution_count": 3,
   "id": "0d5a844f",
   "metadata": {},
   "outputs": [],
   "source": [
    "df = pd.read_csv(\"iris.csv\")"
   ]
  },
  {
   "cell_type": "code",
   "execution_count": 4,
   "id": "90c746ca",
   "metadata": {},
   "outputs": [
    {
     "data": {
      "text/html": [
       "<div>\n",
       "<style scoped>\n",
       "    .dataframe tbody tr th:only-of-type {\n",
       "        vertical-align: middle;\n",
       "    }\n",
       "\n",
       "    .dataframe tbody tr th {\n",
       "        vertical-align: top;\n",
       "    }\n",
       "\n",
       "    .dataframe thead th {\n",
       "        text-align: right;\n",
       "    }\n",
       "</style>\n",
       "<table border=\"1\" class=\"dataframe\">\n",
       "  <thead>\n",
       "    <tr style=\"text-align: right;\">\n",
       "      <th></th>\n",
       "      <th>5.1</th>\n",
       "      <th>3.5</th>\n",
       "      <th>1.4</th>\n",
       "      <th>0.2</th>\n",
       "      <th>Iris-setosa</th>\n",
       "    </tr>\n",
       "  </thead>\n",
       "  <tbody>\n",
       "    <tr>\n",
       "      <th>0</th>\n",
       "      <td>4.9</td>\n",
       "      <td>3.0</td>\n",
       "      <td>1.4</td>\n",
       "      <td>0.2</td>\n",
       "      <td>Iris-setosa</td>\n",
       "    </tr>\n",
       "    <tr>\n",
       "      <th>1</th>\n",
       "      <td>4.7</td>\n",
       "      <td>3.2</td>\n",
       "      <td>1.3</td>\n",
       "      <td>0.2</td>\n",
       "      <td>Iris-setosa</td>\n",
       "    </tr>\n",
       "    <tr>\n",
       "      <th>2</th>\n",
       "      <td>4.6</td>\n",
       "      <td>3.1</td>\n",
       "      <td>1.5</td>\n",
       "      <td>0.2</td>\n",
       "      <td>Iris-setosa</td>\n",
       "    </tr>\n",
       "    <tr>\n",
       "      <th>3</th>\n",
       "      <td>5.0</td>\n",
       "      <td>3.6</td>\n",
       "      <td>1.4</td>\n",
       "      <td>0.2</td>\n",
       "      <td>Iris-setosa</td>\n",
       "    </tr>\n",
       "    <tr>\n",
       "      <th>4</th>\n",
       "      <td>5.4</td>\n",
       "      <td>3.9</td>\n",
       "      <td>1.7</td>\n",
       "      <td>0.4</td>\n",
       "      <td>Iris-setosa</td>\n",
       "    </tr>\n",
       "  </tbody>\n",
       "</table>\n",
       "</div>"
      ],
      "text/plain": [
       "   5.1  3.5  1.4  0.2  Iris-setosa\n",
       "0  4.9  3.0  1.4  0.2  Iris-setosa\n",
       "1  4.7  3.2  1.3  0.2  Iris-setosa\n",
       "2  4.6  3.1  1.5  0.2  Iris-setosa\n",
       "3  5.0  3.6  1.4  0.2  Iris-setosa\n",
       "4  5.4  3.9  1.7  0.4  Iris-setosa"
      ]
     },
     "execution_count": 4,
     "metadata": {},
     "output_type": "execute_result"
    }
   ],
   "source": [
    "df.head()"
   ]
  },
  {
   "cell_type": "code",
   "execution_count": 5,
   "id": "c9face2e",
   "metadata": {},
   "outputs": [],
   "source": [
    "data = df.to_numpy()\n",
    "targets =np.unique(data[:,data.shape[1]-1])\n",
    "for i in range(data.shape[0]):\n",
    "    if  data[i,data.shape[1]-1] == targets[0]:\n",
    "        data[i,data.shape[1]-1]  = 0.0\n",
    "    elif data[i,data.shape[1]-1]  == targets[1]:\n",
    "        data[i,data.shape[1]-1]  = 1.0\n",
    "    else:\n",
    "        data[i,data.shape[1]-1]  = 2.0\n",
    "np.random.shuffle(data)"
   ]
  },
  {
   "cell_type": "code",
   "execution_count": 6,
   "id": "1c167337",
   "metadata": {},
   "outputs": [],
   "source": [
    "n= int(data.shape[0]*0.7)"
   ]
  },
  {
   "cell_type": "code",
   "execution_count": 7,
   "id": "89795568",
   "metadata": {},
   "outputs": [],
   "source": [
    "data_train = data[:n,:]\n",
    "data_test = data[n:,:]"
   ]
  },
  {
   "cell_type": "code",
   "execution_count": 8,
   "id": "20ca9447",
   "metadata": {},
   "outputs": [],
   "source": [
    "train_features = data_train[:,:data.shape[1]-1]\n",
    "train_target = data_train[:,data.shape[1]-1]"
   ]
  },
  {
   "cell_type": "code",
   "execution_count": 9,
   "id": "42adeb70",
   "metadata": {},
   "outputs": [],
   "source": [
    "test_features = data_test[:,:data.shape[1]-1]\n",
    "test_target = data_test[:,data.shape[1]-1]"
   ]
  },
  {
   "cell_type": "code",
   "execution_count": 197,
   "id": "26d9896c",
   "metadata": {},
   "outputs": [],
   "source": [
    "class naive_bayes():\n",
    "            \n",
    "    def data_class(self,data):  # Creates a dict, keys are classes, values are arrays containing all the data in that class\n",
    "        data_dict={}\n",
    "        keys, counts = np.unique(data[:,data.shape[1]-1], return_counts=True)\n",
    "        for e in keys:\n",
    "            data_dict[e]=np.ones((counts[int(e)],data.shape[1]-1),float)\n",
    "        ind_list=[-1]*(data.shape[1]-1)\n",
    "        for i in range(data.shape[0]):\n",
    "            ind_list[int(data[i,data.shape[1]-1])]= ind_list[int(data[i,data.shape[1]-1])] +1\n",
    "            data_dict[data[i,data.shape[1]-1]][ind_list[int(data[i,data.shape[1]-1])],:]=data[i,:data.shape[1]-1]\n",
    "        return data_dict\n",
    "\n",
    "    \n",
    "    \n",
    "    def data_stats_class(self,data):# Creates a dict, keys are classes, values are lists, a list for each column containing [mean,std,len] per class\n",
    "        data_dict=self.data_class(data)\n",
    "        keys=list(data_dict.keys())\n",
    "        stat_dict_class={}\n",
    "        for e in keys:\n",
    "            stat_dict_class[e] = [data_dict[e].shape[0]]\n",
    "            for k in range((data_dict[e].shape[1])):\n",
    "                stat_dict_class[e].append([np.mean(data_dict[e][:,k]),np.std(data_dict[e][:,k])])\n",
    "        return stat_dict_class\n",
    "    \n",
    "    def gaussien(self,mean,stdev,x):            \n",
    "        return (1 / (sqrt(2 * pi) * stdev)) * exp(-((x-mean)**2 / (2 * stdev**2 )))\n",
    "    \n",
    "    def proba_class(self,data,x):\n",
    "        class_stats=self.data_stats_class(data)\n",
    "        proba_class_dict= {}\n",
    "        for class_value, class_summ in class_stats.items():\n",
    "            proba_class_dict[class_value]=class_summ[0]/data.shape[0]\n",
    "            for i in range(1,len(class_summ)):\n",
    "                mean= class_summ[i][0]\n",
    "                std = class_summ[i][1]\n",
    "                proba_class_dict[class_value] = proba_class_dict[class_value] * self.gaussien(mean,std,x[i-1]) \n",
    "                # the gaussian in 37 returns P(feature/classs)\n",
    "                #the proba_class_dict, has for keys classes , values P(c)*p(feature1/c)*...*p(featureN/c)\n",
    "        return(proba_class_dict)\n",
    "    \n",
    "    \n",
    "    def accuracy_metric(self,actual, predicted):\n",
    "        correct = 0\n",
    "        for i in range(len(actual)):\n",
    "                if actual[i] == predicted[i]:\n",
    "                    correct =correct+ 1\n",
    "        return correct / float(len(actual)) * 100.0\n",
    "    \n",
    "    def predict(self,data,test_features,test_target):\n",
    "        result = np.ones((test_target.shape),float)\n",
    "        for i in range(test_features.shape[0]):\n",
    "            result[i]=max(self.proba_class(data,test_features[i]).items(), key=operator.itemgetter(1))[0]\n",
    "        accuracy =self.accuracy_metric(test_target,result)\n",
    "        \n",
    "        print(\"predicted =\",result)\n",
    "        print(\"accuracy = \", accuracy,\"%\")\n",
    "          \n",
    "            \n",
    "                       \n",
    "                    "
   ]
  },
  {
   "cell_type": "code",
   "execution_count": 194,
   "id": "d89071ab",
   "metadata": {},
   "outputs": [
    {
     "name": "stdout",
     "output_type": "stream",
     "text": [
      "predicted = [2. 1. 0. 2. 0. 0. 1. 2. 1. 0. 1. 0. 0. 1. 1. 2. 2. 2. 2. 0. 2. 1. 0. 1.\n",
      " 2. 2. 2. 2. 1. 0. 1. 2. 1. 1. 1. 2. 1. 0. 1. 2. 1. 1. 2. 2. 1.]\n",
      "accuracy =  95.55555555555556 %\n"
     ]
    }
   ],
   "source": [
    "model=naive_bayes()\n",
    "model.predict(data_train,test_features,test_target)"
   ]
  }
 ],
 "metadata": {
  "kernelspec": {
   "display_name": "Python 3",
   "language": "python",
   "name": "python3"
  },
  "language_info": {
   "codemirror_mode": {
    "name": "ipython",
    "version": 3
   },
   "file_extension": ".py",
   "mimetype": "text/x-python",
   "name": "python",
   "nbconvert_exporter": "python",
   "pygments_lexer": "ipython3",
   "version": "3.8.2"
  }
 },
 "nbformat": 4,
 "nbformat_minor": 5
}
