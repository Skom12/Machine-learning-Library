{
 "cells": [
  {
   "cell_type": "code",
   "execution_count": 411,
   "id": "78225cc7",
   "metadata": {},
   "outputs": [],
   "source": [
    "\n",
    "import numpy as np\n",
    "import pandas as pd\n",
    "import operator\n",
    "from matplotlib import pyplot as plt\n",
    "%matplotlib inline\n",
    "\n",
    "from random import shuffle"
   ]
  },
  {
   "cell_type": "code",
   "execution_count": 412,
   "id": "557cb1b4",
   "metadata": {},
   "outputs": [],
   "source": [
    "test_data = pd.read_csv(\"test.csv\")\n",
    "train_data = pd.read_csv(\"train.csv\")"
   ]
  },
  {
   "cell_type": "code",
   "execution_count": 413,
   "id": "bcb4fa52",
   "metadata": {},
   "outputs": [],
   "source": [
    "test_array= test_data.to_numpy()\n",
    "train_array=train_data.to_numpy()"
   ]
  },
  {
   "cell_type": "code",
   "execution_count": 449,
   "id": "b4047be3",
   "metadata": {},
   "outputs": [],
   "source": [
    "class SVM():\n",
    "    def __init__(self,lambd,nbr_features):\n",
    "        self.lambd = lambd\n",
    "        self.nbr_features = nbr_features# Numbre of features plus bias\n",
    "        self.weights = [0.0] * self.nbr_features # Weights vector initialisation\n",
    "        self.alpha = 0\n",
    "        \n",
    "    def data_processing(self, _array): #seperates features from target/sets target in {-1;1}/Adds a bias column to features\n",
    "        _target = [0] * _array.shape[0]\n",
    "        bias = np.ones((train_array.shape[0],1),float)\n",
    "        _features = train_array[:,:train_array.shape[1]-1]\n",
    "        _features = np.append(_features,bias,axis= 1)\n",
    "        _features = _features.astype(float)\n",
    "        for e in range(_array.shape[0]):\n",
    "            if _array[e,_array.shape[1]-1] == 1:\n",
    "                _target[e] = 1.\n",
    "            else:\n",
    "                _target[e] = -1.     \n",
    "        return (_features, _target)\n",
    "   \n",
    "    def hinge_loss(self,target,y):\n",
    "        return max(0, 1 - target*y)\n",
    "    \n",
    "    def sign(self, x):\n",
    "        return -1. if x <= 0 else 1.\n",
    "    \n",
    "    def predict(self,_array): # predicts the class of the input\n",
    "        result=0\n",
    "        for i in range(len(_array)):\n",
    "            result= result + self.weights[i] * _array[i]   \n",
    "        return result\n",
    "    \n",
    "    def train(self,features,target):\n",
    "        for i in range(features.shape[0]):\n",
    "            self.alpha=(1./(self.lambd*(i+1.)))\n",
    "            if target[i]*self.predict(features[i,:]) <1:\n",
    "                for j in range(len(features[i,:])):\n",
    "                    self.weights[j] =  self.weights[j] + self.alpha *( (target[i]*features[i,j]) + (-2 * (self.lambd)*self.weights[j]) )\n",
    "            else:\n",
    "                for j in range(len(features[i])):\n",
    "                    self.weights[j] = self.weights[j] + self.alpha* (-2 * (self.lambd)*self.weights[j])\n",
    "\n",
    "    \n",
    "    def infer(self,features):\n",
    "        predicted= []\n",
    "        loss_pred =[]\n",
    "        for i in range(features.shape[0]):\n",
    "                predicted.append(self.sign(self.predict(features[i,:])))\n",
    "        return predicted\n",
    "    \n",
    "    \n",
    "    def performance(self,_predicted,_target):\n",
    "        t_p = 0 \n",
    "        t_n = 0\n",
    "        f_p = 0\n",
    "        f_n= 0\n",
    "        t_p_n_array = [sum(x) for x in zip(_predicted, _target)] \n",
    "        f_p_n_array = list(map(operator.sub, _predicted, _target))\n",
    "        \n",
    "        for e in t_p_n_array:\n",
    "                if e > 0 :\n",
    "                    t_p = t_p + 1\n",
    "                elif e <0 :\n",
    "                    t_n = t_n + 1\n",
    "\n",
    "        for e in f_p_n_array:\n",
    "            if e >0 :\n",
    "                f_p = f_p + 1\n",
    "            elif e <0 :\n",
    "                f_n = f_n + 1\n",
    "                \n",
    "        accuracy = (t_p + t_n)/(t_p + t_n + f_p + f_n)\n",
    "        print(\"Accuracy =\",accuracy*100, \"%\")\n",
    "        loss = 0\n",
    "        for i in range(len(_target)):\n",
    "            loss = loss + self.hinge_loss(_target[i],_predicted[i])  \n",
    "        print(\"loss =\",loss/len(_target))\n",
    "        \n",
    "        \n",
    "        \n",
    "        \n",
    "        \n",
    "        "
   ]
  },
  {
   "cell_type": "code",
   "execution_count": 450,
   "id": "cbb9b44c",
   "metadata": {},
   "outputs": [],
   "source": [
    "model= SVM(4,train_array.shape[1])\n",
    "test_features , test_target= model.data_processing(test_array)\n",
    "train_features , train_target= model.data_processing(train_array)"
   ]
  },
  {
   "cell_type": "code",
   "execution_count": 451,
   "id": "249b44cd",
   "metadata": {},
   "outputs": [
    {
     "data": {
      "text/plain": [
       "[0.0, 0.0, 0.0, 0.0]"
      ]
     },
     "execution_count": 451,
     "metadata": {},
     "output_type": "execute_result"
    }
   ],
   "source": [
    "model.weights"
   ]
  },
  {
   "cell_type": "code",
   "execution_count": 452,
   "id": "889286d3",
   "metadata": {},
   "outputs": [],
   "source": [
    "model.train(train_features,train_target)"
   ]
  },
  {
   "cell_type": "code",
   "execution_count": 453,
   "id": "89320a31",
   "metadata": {},
   "outputs": [
    {
     "data": {
      "text/plain": [
       "[-0.02871663117467558,\n",
       " -0.02509794197386528,\n",
       " -0.009765192275279022,\n",
       " -0.0049241953656784295]"
      ]
     },
     "execution_count": 453,
     "metadata": {},
     "output_type": "execute_result"
    }
   ],
   "source": [
    "model.weights"
   ]
  },
  {
   "cell_type": "code",
   "execution_count": 454,
   "id": "abf03ac4",
   "metadata": {},
   "outputs": [],
   "source": [
    "predicted = model.infer(test_features)"
   ]
  },
  {
   "cell_type": "code",
   "execution_count": 455,
   "id": "4f049ddf",
   "metadata": {},
   "outputs": [
    {
     "name": "stdout",
     "output_type": "stream",
     "text": [
      "Accuracy = 79.2568520448832 %\n",
      "loss = 0.4148629591023361\n"
     ]
    }
   ],
   "source": [
    "model.performance(predicted,test_target)"
   ]
  }
 ],
 "metadata": {
  "kernelspec": {
   "display_name": "Python 3",
   "language": "python",
   "name": "python3"
  },
  "language_info": {
   "codemirror_mode": {
    "name": "ipython",
    "version": 3
   },
   "file_extension": ".py",
   "mimetype": "text/x-python",
   "name": "python",
   "nbconvert_exporter": "python",
   "pygments_lexer": "ipython3",
   "version": "3.8.2"
  }
 },
 "nbformat": 4,
 "nbformat_minor": 5
}
