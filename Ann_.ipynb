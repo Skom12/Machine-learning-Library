{
 "cells": [
  {
   "cell_type": "code",
   "execution_count": 499,
   "id": "23da4081",
   "metadata": {},
   "outputs": [],
   "source": [
    "import csv\n",
    "import pandas as pd\n",
    "import numpy as np"
   ]
  },
  {
   "cell_type": "code",
   "execution_count": 500,
   "id": "e386a75f",
   "metadata": {},
   "outputs": [],
   "source": [
    "headers =  ['age', 'sex','chest_pain','resting_blood_pressure',  \n",
    "        'serum_cholestoral', 'fasting_blood_sugar', 'resting_ecg_results',\n",
    "        'max_heart_rate_achieved', 'exercise_induced_angina', 'oldpeak',\"slope of the peak\",\n",
    "        'num_of_major_vessels','thal', 'heart_disease']\n",
    "heart_df = pd.read_csv('heart.dat', sep=' ',names=headers)"
   ]
  },
  {
   "cell_type": "code",
   "execution_count": 501,
   "id": "1d8ce837",
   "metadata": {},
   "outputs": [
    {
     "data": {
      "text/html": [
       "<div>\n",
       "<style scoped>\n",
       "    .dataframe tbody tr th:only-of-type {\n",
       "        vertical-align: middle;\n",
       "    }\n",
       "\n",
       "    .dataframe tbody tr th {\n",
       "        vertical-align: top;\n",
       "    }\n",
       "\n",
       "    .dataframe thead th {\n",
       "        text-align: right;\n",
       "    }\n",
       "</style>\n",
       "<table border=\"1\" class=\"dataframe\">\n",
       "  <thead>\n",
       "    <tr style=\"text-align: right;\">\n",
       "      <th></th>\n",
       "      <th>age</th>\n",
       "      <th>sex</th>\n",
       "      <th>chest_pain</th>\n",
       "      <th>resting_blood_pressure</th>\n",
       "      <th>serum_cholestoral</th>\n",
       "      <th>fasting_blood_sugar</th>\n",
       "      <th>resting_ecg_results</th>\n",
       "      <th>max_heart_rate_achieved</th>\n",
       "      <th>exercise_induced_angina</th>\n",
       "      <th>oldpeak</th>\n",
       "      <th>slope of the peak</th>\n",
       "      <th>num_of_major_vessels</th>\n",
       "      <th>thal</th>\n",
       "      <th>heart_disease</th>\n",
       "    </tr>\n",
       "  </thead>\n",
       "  <tbody>\n",
       "    <tr>\n",
       "      <th>0</th>\n",
       "      <td>70.0</td>\n",
       "      <td>1.0</td>\n",
       "      <td>4.0</td>\n",
       "      <td>130.0</td>\n",
       "      <td>322.0</td>\n",
       "      <td>0.0</td>\n",
       "      <td>2.0</td>\n",
       "      <td>109.0</td>\n",
       "      <td>0.0</td>\n",
       "      <td>2.4</td>\n",
       "      <td>2.0</td>\n",
       "      <td>3.0</td>\n",
       "      <td>3.0</td>\n",
       "      <td>2</td>\n",
       "    </tr>\n",
       "    <tr>\n",
       "      <th>1</th>\n",
       "      <td>67.0</td>\n",
       "      <td>0.0</td>\n",
       "      <td>3.0</td>\n",
       "      <td>115.0</td>\n",
       "      <td>564.0</td>\n",
       "      <td>0.0</td>\n",
       "      <td>2.0</td>\n",
       "      <td>160.0</td>\n",
       "      <td>0.0</td>\n",
       "      <td>1.6</td>\n",
       "      <td>2.0</td>\n",
       "      <td>0.0</td>\n",
       "      <td>7.0</td>\n",
       "      <td>1</td>\n",
       "    </tr>\n",
       "    <tr>\n",
       "      <th>2</th>\n",
       "      <td>57.0</td>\n",
       "      <td>1.0</td>\n",
       "      <td>2.0</td>\n",
       "      <td>124.0</td>\n",
       "      <td>261.0</td>\n",
       "      <td>0.0</td>\n",
       "      <td>0.0</td>\n",
       "      <td>141.0</td>\n",
       "      <td>0.0</td>\n",
       "      <td>0.3</td>\n",
       "      <td>1.0</td>\n",
       "      <td>0.0</td>\n",
       "      <td>7.0</td>\n",
       "      <td>2</td>\n",
       "    </tr>\n",
       "    <tr>\n",
       "      <th>3</th>\n",
       "      <td>64.0</td>\n",
       "      <td>1.0</td>\n",
       "      <td>4.0</td>\n",
       "      <td>128.0</td>\n",
       "      <td>263.0</td>\n",
       "      <td>0.0</td>\n",
       "      <td>0.0</td>\n",
       "      <td>105.0</td>\n",
       "      <td>1.0</td>\n",
       "      <td>0.2</td>\n",
       "      <td>2.0</td>\n",
       "      <td>1.0</td>\n",
       "      <td>7.0</td>\n",
       "      <td>1</td>\n",
       "    </tr>\n",
       "    <tr>\n",
       "      <th>4</th>\n",
       "      <td>74.0</td>\n",
       "      <td>0.0</td>\n",
       "      <td>2.0</td>\n",
       "      <td>120.0</td>\n",
       "      <td>269.0</td>\n",
       "      <td>0.0</td>\n",
       "      <td>2.0</td>\n",
       "      <td>121.0</td>\n",
       "      <td>1.0</td>\n",
       "      <td>0.2</td>\n",
       "      <td>1.0</td>\n",
       "      <td>1.0</td>\n",
       "      <td>3.0</td>\n",
       "      <td>1</td>\n",
       "    </tr>\n",
       "  </tbody>\n",
       "</table>\n",
       "</div>"
      ],
      "text/plain": [
       "    age  sex  chest_pain  resting_blood_pressure  serum_cholestoral  \\\n",
       "0  70.0  1.0         4.0                   130.0              322.0   \n",
       "1  67.0  0.0         3.0                   115.0              564.0   \n",
       "2  57.0  1.0         2.0                   124.0              261.0   \n",
       "3  64.0  1.0         4.0                   128.0              263.0   \n",
       "4  74.0  0.0         2.0                   120.0              269.0   \n",
       "\n",
       "   fasting_blood_sugar  resting_ecg_results  max_heart_rate_achieved  \\\n",
       "0                  0.0                  2.0                    109.0   \n",
       "1                  0.0                  2.0                    160.0   \n",
       "2                  0.0                  0.0                    141.0   \n",
       "3                  0.0                  0.0                    105.0   \n",
       "4                  0.0                  2.0                    121.0   \n",
       "\n",
       "   exercise_induced_angina  oldpeak  slope of the peak  num_of_major_vessels  \\\n",
       "0                      0.0      2.4                2.0                   3.0   \n",
       "1                      0.0      1.6                2.0                   0.0   \n",
       "2                      0.0      0.3                1.0                   0.0   \n",
       "3                      1.0      0.2                2.0                   1.0   \n",
       "4                      1.0      0.2                1.0                   1.0   \n",
       "\n",
       "   thal  heart_disease  \n",
       "0   3.0              2  \n",
       "1   7.0              1  \n",
       "2   7.0              2  \n",
       "3   7.0              1  \n",
       "4   3.0              1  "
      ]
     },
     "execution_count": 501,
     "metadata": {},
     "output_type": "execute_result"
    }
   ],
   "source": [
    "heart_df.head()"
   ]
  },
  {
   "cell_type": "code",
   "execution_count": 502,
   "id": "65561279",
   "metadata": {},
   "outputs": [],
   "source": [
    "heart_data = heart_df.to_numpy()\n",
    "\n",
    "# heart_data[heart_data == 0] = 0.0000001\n",
    "# # setting all values equal to 0 to a small value for log and division errors"
   ]
  },
  {
   "cell_type": "code",
   "execution_count": 503,
   "id": "20b20e21",
   "metadata": {},
   "outputs": [
    {
     "data": {
      "text/plain": [
       "(270, 14)"
      ]
     },
     "execution_count": 503,
     "metadata": {},
     "output_type": "execute_result"
    }
   ],
   "source": [
    "heart_data.shape"
   ]
  },
  {
   "cell_type": "code",
   "execution_count": 504,
   "id": "985c24f3",
   "metadata": {},
   "outputs": [],
   "source": [
    "np.random.shuffle(heart_data)\n",
    "train_size = int(0.8 * heart_data.shape[0])\n",
    "heart_train = heart_data[:train_size,:]\n",
    "heart_test= heart_data[train_size:,:]"
   ]
  },
  {
   "cell_type": "code",
   "execution_count": 505,
   "id": "3a898924",
   "metadata": {},
   "outputs": [],
   "source": [
    "train_features= heart_train[:,:heart_train.shape[1]-1]\n",
    "train_target = heart_train[:,heart_train.shape[1]-1]\n"
   ]
  },
  {
   "cell_type": "code",
   "execution_count": 506,
   "id": "51566aa8",
   "metadata": {},
   "outputs": [],
   "source": [
    "test_features= heart_test[:,:heart_test.shape[1]-1]\n",
    "test_target = heart_test[:,heart_test.shape[1]-1]"
   ]
  },
  {
   "cell_type": "code",
   "execution_count": 507,
   "id": "b12af001",
   "metadata": {},
   "outputs": [],
   "source": [
    "for i in range(train_target.shape[0]):\n",
    "    if train_target[i] == 1:\n",
    "        train_target[i]=0\n",
    "    else:\n",
    "        train_target[i]=1\n",
    "        \n",
    "for i in range(test_target.shape[0]):\n",
    "    if test_target[i] == 1:\n",
    "        test_target[i]=0\n",
    "    else:\n",
    "        test_target[i]=1"
   ]
  },
  {
   "cell_type": "code",
   "execution_count": 513,
   "id": "6d46a2da",
   "metadata": {},
   "outputs": [],
   "source": [
    "nn_input = heart_data.shape[1]-1\n",
    "classes = np.unique(heart_data[:,heart_data.shape[1]-1])\n",
    "nn_output = len(classes)-1"
   ]
  },
  {
   "cell_type": "code",
   "execution_count": 514,
   "id": "222635a9",
   "metadata": {},
   "outputs": [],
   "source": [
    "# heart_df = pd.read_csv('breastcancer.csv')\n",
    "# heart_data = heart_df.to_numpy()\n",
    "# target=heart_data[:,1]\n",
    "# target_modified = np.ones(target.shape)\n",
    "# for i in range(target.shape[0]):\n",
    "#     if target[i] == 'B':\n",
    "#         target_modified[i] = 0\n",
    "# target=target_modified\n",
    "# feature=np.concatenate((heart_data[:,0].reshape(569,1),heart_data[:,2:]),axis=1)\n",
    "\n",
    "# train_size = int(0.8 * heart_data.shape[0])\n",
    "\n",
    "# train_features= feature[:train_size,:]\n",
    "# train_target = target[:train_size]\n",
    "# test_features= feature[train_size:,:]\n",
    "# test_target = target[train_size:]\n",
    "# nn_input = heart_data.shape[1]-1\n",
    "# nn_output = 1"
   ]
  },
  {
   "cell_type": "code",
   "execution_count": 516,
   "id": "4ee89cdd",
   "metadata": {},
   "outputs": [],
   "source": [
    "class ann :\n",
    "    def __init__(self,nn_inputs,hidden_l,nn_output):\n",
    "        self.nn_inputs = nn_inputs\n",
    "        self.hidden_l = hidden_l  #list contains number of nodes in each hidden layer\n",
    "        self.nn_output = nn_output\n",
    "        self.bias = []\n",
    "        self.weights=[] # e.g: W1.shape=(nn_input,nn_hidden[0]);   W2.shape=(nn_hidden[0],nn_hidden[1]) .....\n",
    "        self.calculated_params =[]\n",
    "        self.learning_rate = 0.2\n",
    "        \n",
    "        \n",
    "        np.random.seed(1) \n",
    "        self.weights.append(np.random.randn(self.nn_inputs,self.hidden_l[0]) )  #weights initilisation\n",
    "        for i in range(len(self.hidden_l)-1):\n",
    "            self.weights.append(np.random.randn(self.hidden_l[i], self.hidden_l[i+1]) ) \n",
    "        self.weights.append(np.random.randn(self.hidden_l[len(self.hidden_l)-1],self.nn_output) ) \n",
    "       \n",
    "        for i in range(len(self.hidden_l)):          #Bias initialisation \n",
    "            self.bias.append(np.random.randn(self.hidden_l[i]))\n",
    "        self.bias.append(np.random.randn(self.nn_output))\n",
    "        \n",
    "        \n",
    "        \n",
    "        for i in range(len(self.weights)):\n",
    "            print(self.weights[i].shape)\n",
    "        print(self.bias)\n",
    "        \n",
    "    def min_val(self, x):\n",
    "        min_val= 0.0000000001\n",
    "        return np.maximum(x, min_val)\n",
    "                  \n",
    "    def sigmoid(self,x):\n",
    "        return 1/(1+np.exp(-x))\n",
    "    \n",
    "    def relu(self,x):\n",
    "        return np.maximum(0,x)\n",
    "    \n",
    "    def sigmoid_deriv(self,x):\n",
    "        return self.sigmoid(x)*(1-self.sigmoid(x))\n",
    "    \n",
    "    def tanh_deriv(self,x):\n",
    "        return 1.-np.tanh(x)**2\n",
    "    \n",
    "    \n",
    "    def ce_loss(self,target,predicted):\n",
    "        n_samples = len(target)\n",
    "        loss=0\n",
    "#         for e in range(n_samples):\n",
    "#             if predicted[e] == 0.0 :\n",
    "#                 predictd[e] = 0.000000001   #to avoid passing 0 to log\n",
    "        loss = -1/n_samples * (np.sum(np.multiply(np.log(self.min_val(predicted)),target )) + np.sum(np.multiply(np.log(self.min_val(1.-predicted)),1.-target )))\n",
    "                                            #loss case 2 output classes (needs to be generalised)\n",
    "        return loss\n",
    "    \n",
    "    \n",
    "    def activation(self,index,x):\n",
    "        return x.dot(self.weights[index]) + self.bias[index]\n",
    "    \n",
    "    def forward_prop(self,x,y):\n",
    "        result=x\n",
    "        for i in range(len(self.weights)-1):                    # activations of hidden layers \n",
    "            dot = self.activation(i,result)\n",
    "            result= np.tanh(dot)\n",
    "            self.calculated_params.append(dot)\n",
    "            self.calculated_params.append(result)\n",
    "#         self.calculated_params.append(self.activation(len(self.weights)-1,result))\n",
    "        result=self.sigmoid(self.activation(len(self.weights)-1,result))  #activation of output layer\n",
    "        \n",
    "        loss = self.ce_loss(y,result)\n",
    "        \n",
    "        return result,loss\n",
    "        \n",
    "        \n",
    "    def back_prop(self,x,l,y,y_pred):\n",
    "        z_deriv = []\n",
    "        a_deriv = []\n",
    "        w_deriv = []\n",
    "        b_deriv = []\n",
    "#         for e in y_pred:\n",
    "#             if e ==0:\n",
    "#                 e = 0.0000001\n",
    "            \n",
    "        dl_wrt_y_pred = np.divide(1-y,self.min_val(1-y_pred)) - np.divide(y, self.min_val(y_pred))  # case of losss of 2 classes  \n",
    "        dl_wrt_sig = y_pred * (1-y_pred)\n",
    "        dl_wrt_y_pred_z = dl_wrt_y_pred.dot(dl_wrt_sig)\n",
    "        z_deriv.append(dl_wrt_y_pred_z)\n",
    "        \n",
    "        for i in range(0,len(self.weights)-1):\n",
    "            dl_wrt_A =  z_deriv[-1].dot((self.weights[len(self.weights)-1-i]).T)\n",
    "            a_deriv.append(dl_wrt_A)\n",
    "\n",
    "            dl_wrt_w = self.calculated_params[len(self.calculated_params)-1-2*i].T.dot(z_deriv[-1])\n",
    "            w_deriv.append(dl_wrt_w)\n",
    "\n",
    "            dl_wrt_b = np.sum(z_deriv[-1], axis=0, keepdims=True)\n",
    "            b_deriv.append(dl_wrt_b)\n",
    "\n",
    "            dl_wrt_z = a_deriv[-1] * self.tanh_deriv(self.calculated_params[len(self.calculated_params)-1-(2*i+1)])\n",
    "            z_deriv.append(dl_wrt_z)\n",
    "            \n",
    "        dl_wrt_b = np.sum(z_deriv[-1], axis=0, keepdims=True)\n",
    "        b_deriv.append(dl_wrt_b)\n",
    "        \n",
    "        dl_wrt_w = x.T.dot(z_deriv[-1])\n",
    "        w_deriv.append(dl_wrt_w)\n",
    "        \n",
    "            \n",
    "        #updating weights and bias\n",
    "        \n",
    "        for i in range(len(self.weights)):\n",
    "            self.weights[i] = self.weights[i] - self.learning_rate * w_deriv[len(self.weights)-1-i]\n",
    "            self.bias[i] = self.bias[i] - self.learning_rate * b_deriv[len(self.weights)-1-i]\n",
    "\n",
    "        \n",
    "    def train(self,x,y):\n",
    "        last_loss=0\n",
    "        loss=1\n",
    "        while(loss != last_loss):\n",
    "            last_loss=loss\n",
    "            predicted,loss = self.forward_prop(x,y)\n",
    "            self.back_prop(x,loss,y,predicted)\n",
    "            \n",
    "        \n",
    "            \n",
    "            \n",
    "    def predict(self,x,y):\n",
    "        predicted,loss = self.forward_prop(x,y)\n",
    "        \n",
    "        predicted = np.around(predicted)\n",
    "        print(\"loss =\", loss)\n",
    "        return predicted\n",
    "            \n",
    "        \n",
    "    \n",
    "    \n",
    "    \n",
    "    \n",
    "    \n",
    "    \n",
    "    "
   ]
  },
  {
   "cell_type": "code",
   "execution_count": 517,
   "id": "8278ddd4",
   "metadata": {},
   "outputs": [
    {
     "name": "stdout",
     "output_type": "stream",
     "text": [
      "(13, 8)\n",
      "(8, 5)\n",
      "(5, 1)\n",
      "[array([ 0.68255141, -0.31011677, -2.43483776,  1.0388246 ,  2.18697965,\n",
      "        0.44136444, -0.10015523, -0.13644474]), array([-0.11905419,  0.01740941, -1.12201873, -0.51709446, -0.99702683]), array([0.24879916])]\n"
     ]
    }
   ],
   "source": [
    "model = ann(nn_input,[8,5],nn_output)\n"
   ]
  },
  {
   "cell_type": "code",
   "execution_count": 518,
   "id": "bb2b7882",
   "metadata": {},
   "outputs": [
    {
     "name": "stderr",
     "output_type": "stream",
     "text": [
      "<ipython-input-516-152224af210b>:33: RuntimeWarning: overflow encountered in exp\n",
      "  return 1/(1+np.exp(-x))\n"
     ]
    }
   ],
   "source": [
    "model.train(train_features,train_target)"
   ]
  },
  {
   "cell_type": "code",
   "execution_count": 519,
   "id": "29b833cc",
   "metadata": {},
   "outputs": [
    {
     "name": "stdout",
     "output_type": "stream",
     "text": [
      "loss = 13601.284863386458\n"
     ]
    },
    {
     "name": "stderr",
     "output_type": "stream",
     "text": [
      "<ipython-input-516-152224af210b>:33: RuntimeWarning: overflow encountered in exp\n",
      "  return 1/(1+np.exp(-x))\n"
     ]
    }
   ],
   "source": [
    "predicted =model.predict(test_features,test_features)"
   ]
  }
 ],
 "metadata": {
  "kernelspec": {
   "display_name": "Python 3",
   "language": "python",
   "name": "python3"
  },
  "language_info": {
   "codemirror_mode": {
    "name": "ipython",
    "version": 3
   },
   "file_extension": ".py",
   "mimetype": "text/x-python",
   "name": "python",
   "nbconvert_exporter": "python",
   "pygments_lexer": "ipython3",
   "version": "3.8.2"
  }
 },
 "nbformat": 4,
 "nbformat_minor": 5
}
